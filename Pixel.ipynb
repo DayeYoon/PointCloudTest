{
 "cells": [
  {
   "cell_type": "code",
   "execution_count": 8,
   "id": "6435e4a2",
   "metadata": {},
   "outputs": [
    {
     "name": "stderr",
     "output_type": "stream",
     "text": [
      "C:\\Users\\silvi\\AppData\\Local\\Temp\\ipykernel_17312\\912229180.py:1: DeprecationWarning: Importing display from IPython.core.display is deprecated since IPython 7.14, please import from IPython display\n",
      "  from IPython.core.display import display, HTML\n"
     ]
    },
    {
     "data": {
      "text/html": [
       "<style>.container { width:90% !important; }</style>"
      ],
      "text/plain": [
       "<IPython.core.display.HTML object>"
      ]
     },
     "metadata": {},
     "output_type": "display_data"
    }
   ],
   "source": [
    "from IPython.core.display import display, HTML\n",
    "display(HTML(\"<style>.container { width:90% !important; }</style>\"))"
   ]
  },
  {
   "cell_type": "markdown",
   "id": "6be0884d",
   "metadata": {},
   "source": [
    "## 픽셀 찍어보기 테스트 "
   ]
  },
  {
   "cell_type": "code",
   "execution_count": 59,
   "id": "eafc4899",
   "metadata": {},
   "outputs": [],
   "source": [
    "import IPython.display as display\n",
    "from PIL import Image, ImageColor\n",
    "import pandas as pd\n",
    "import matplotlib.pyplot as plt\n",
    "%matplotlib notebook\n",
    "import numpy as np"
   ]
  },
  {
   "cell_type": "code",
   "execution_count": 54,
   "id": "5583b2ec",
   "metadata": {},
   "outputs": [
    {
     "data": {
      "image/png": "[encoded data removed]",
      "text/plain": [
       "<PIL.PngImagePlugin.PngImageFile image mode=1 size=10x10 at 0x20BAAB75F40>"
      ]
     },
     "metadata": {},
     "output_type": "display_data"
    }
   ],
   "source": [
    "im = Image.new('1', (10,10)) # create the Image of size 1 pixel \n",
    "im.putpixel((0,0), ImageColor.getcolor('red', '1')) # or whatever color you wish\n",
    "\n",
    "im.save('simplePixel.png') # or any image format\n",
    "display.display(Image.open('simplePixel.png'))"
   ]
  },
  {
   "cell_type": "markdown",
   "id": "9ce5276b",
   "metadata": {},
   "source": [
    "img.putpixel((50,60), (255,1,1))  #x,y r,g,b"
   ]
  },
  {
   "cell_type": "markdown",
   "id": "946758bc",
   "metadata": {},
   "source": [
    "## testsample.csv 로 간단하게 실행 "
   ]
  },
  {
   "cell_type": "code",
   "execution_count": 121,
   "id": "4be2c4c4",
   "metadata": {},
   "outputs": [
    {
     "name": "stdout",
     "output_type": "stream",
     "text": [
      "[33, 34, 35, 36, 37, 38, 39, 40, 41, 42, 43] [100, 101, 102, 103, 104, 105, 106, 107, 108, 109, 110] [10, 11, 12, 13, 14, 15, 16, 17, 18, 19, 20]\n",
      "i,j 0 0\n",
      "i,j 0 1\n",
      "i,j 0 2\n",
      "i,j 0 3\n",
      "i,j 1 0\n",
      "i,j 1 1\n",
      "i,j 1 2\n",
      "i,j 1 3\n",
      "i,j 2 0\n",
      "i,j 2 1\n",
      "i,j 2 2\n",
      "i,j 2 3\n"
     ]
    }
   ],
   "source": [
    "#데이터 불러오기\n",
    "data = pd.read_csv('pixelsample.csv')\n",
    "\n",
    "x = data['x']\n",
    "y = data['y']\n",
    "\n",
    "r = data['r']\n",
    "g = data['g']\n",
    "b = data['b']\n",
    "\n",
    "#int로 변경\n",
    "r_list = list(map(int,r))\n",
    "g_list = list(map(int,g))\n",
    "b_list = list(map(int,b))\n",
    "print(r_list, g_list, b_list)\n",
    "#print(r,g,b)\n",
    "\n",
    "#픽셀의 x,y값 넣을 빈 배열 만들기\n",
    "x_pix = [0 for i in range(10)]\n",
    "y_pix = [0 for i in range(10)]\n",
    "\n",
    "#이미지 판 만들기 (mode, size, color)\n",
    "img = Image.new(\"RGB\",(500,500),(255,255,255))  \n",
    "\n",
    "\n",
    "for i in range(0,3): #세로\n",
    "    for j in range(0,4): #가로\n",
    "        img.putpixel((i,j), (r_list[i],g_list[i],b_list[i]))  #rgb에 int로 변경한 rgb값 넣기\n",
    "        print('i,j',i,j)  \n",
    "        \n",
    "img.show()  "
   ]
  },
  {
   "cell_type": "markdown",
   "id": "d5c7f09d",
   "metadata": {},
   "source": [
    "## 내 데이터 이용 "
   ]
  },
  {
   "cell_type": "code",
   "execution_count": 16,
   "id": "61df5d61",
   "metadata": {},
   "outputs": [
    {
     "data": {
      "text/html": [
       "<div>\n",
       "<style scoped>\n",
       "    .dataframe tbody tr th:only-of-type {\n",
       "        vertical-align: middle;\n",
       "    }\n",
       "\n",
       "    .dataframe tbody tr th {\n",
       "        vertical-align: top;\n",
       "    }\n",
       "\n",
       "    .dataframe thead th {\n",
       "        text-align: right;\n",
       "    }\n",
       "</style>\n",
       "<table border=\"1\" class=\"dataframe\">\n",
       "  <thead>\n",
       "    <tr style=\"text-align: right;\">\n",
       "      <th></th>\n",
       "      <th>x</th>\n",
       "      <th>y</th>\n",
       "      <th>z</th>\n",
       "      <th>I</th>\n",
       "      <th>r</th>\n",
       "      <th>g</th>\n",
       "      <th>b</th>\n",
       "    </tr>\n",
       "  </thead>\n",
       "  <tbody>\n",
       "    <tr>\n",
       "      <th>0</th>\n",
       "      <td>-0.282</td>\n",
       "      <td>-4.097</td>\n",
       "      <td>-0.419</td>\n",
       "      <td>-1596</td>\n",
       "      <td>39</td>\n",
       "      <td>47</td>\n",
       "      <td>34</td>\n",
       "    </tr>\n",
       "    <tr>\n",
       "      <th>1</th>\n",
       "      <td>-0.282</td>\n",
       "      <td>-4.101</td>\n",
       "      <td>-0.405</td>\n",
       "      <td>-1114</td>\n",
       "      <td>44</td>\n",
       "      <td>47</td>\n",
       "      <td>31</td>\n",
       "    </tr>\n",
       "    <tr>\n",
       "      <th>2</th>\n",
       "      <td>-0.268</td>\n",
       "      <td>-4.113</td>\n",
       "      <td>-0.309</td>\n",
       "      <td>286</td>\n",
       "      <td>46</td>\n",
       "      <td>47</td>\n",
       "      <td>44</td>\n",
       "    </tr>\n",
       "    <tr>\n",
       "      <th>3</th>\n",
       "      <td>-0.282</td>\n",
       "      <td>-4.098</td>\n",
       "      <td>-0.290</td>\n",
       "      <td>-881</td>\n",
       "      <td>38</td>\n",
       "      <td>32</td>\n",
       "      <td>25</td>\n",
       "    </tr>\n",
       "    <tr>\n",
       "      <th>4</th>\n",
       "      <td>-0.267</td>\n",
       "      <td>-4.107</td>\n",
       "      <td>-0.294</td>\n",
       "      <td>-746</td>\n",
       "      <td>48</td>\n",
       "      <td>43</td>\n",
       "      <td>47</td>\n",
       "    </tr>\n",
       "    <tr>\n",
       "      <th>...</th>\n",
       "      <td>...</td>\n",
       "      <td>...</td>\n",
       "      <td>...</td>\n",
       "      <td>...</td>\n",
       "      <td>...</td>\n",
       "      <td>...</td>\n",
       "      <td>...</td>\n",
       "    </tr>\n",
       "    <tr>\n",
       "      <th>1132606</th>\n",
       "      <td>0.017</td>\n",
       "      <td>1.730</td>\n",
       "      <td>1.380</td>\n",
       "      <td>-518</td>\n",
       "      <td>93</td>\n",
       "      <td>92</td>\n",
       "      <td>98</td>\n",
       "    </tr>\n",
       "    <tr>\n",
       "      <th>1132607</th>\n",
       "      <td>0.017</td>\n",
       "      <td>1.741</td>\n",
       "      <td>1.378</td>\n",
       "      <td>-305</td>\n",
       "      <td>85</td>\n",
       "      <td>87</td>\n",
       "      <td>83</td>\n",
       "    </tr>\n",
       "    <tr>\n",
       "      <th>1132608</th>\n",
       "      <td>0.005</td>\n",
       "      <td>1.752</td>\n",
       "      <td>1.378</td>\n",
       "      <td>-577</td>\n",
       "      <td>91</td>\n",
       "      <td>82</td>\n",
       "      <td>92</td>\n",
       "    </tr>\n",
       "    <tr>\n",
       "      <th>1132609</th>\n",
       "      <td>0.011</td>\n",
       "      <td>1.747</td>\n",
       "      <td>1.378</td>\n",
       "      <td>-90</td>\n",
       "      <td>95</td>\n",
       "      <td>92</td>\n",
       "      <td>99</td>\n",
       "    </tr>\n",
       "    <tr>\n",
       "      <th>1132610</th>\n",
       "      <td>0.005</td>\n",
       "      <td>1.762</td>\n",
       "      <td>1.377</td>\n",
       "      <td>-1173</td>\n",
       "      <td>79</td>\n",
       "      <td>83</td>\n",
       "      <td>83</td>\n",
       "    </tr>\n",
       "  </tbody>\n",
       "</table>\n",
       "<p>1132611 rows × 7 columns</p>\n",
       "</div>"
      ],
      "text/plain": [
       "             x      y      z     I   r   g   b\n",
       "0       -0.282 -4.097 -0.419 -1596  39  47  34\n",
       "1       -0.282 -4.101 -0.405 -1114  44  47  31\n",
       "2       -0.268 -4.113 -0.309   286  46  47  44\n",
       "3       -0.282 -4.098 -0.290  -881  38  32  25\n",
       "4       -0.267 -4.107 -0.294  -746  48  43  47\n",
       "...        ...    ...    ...   ...  ..  ..  ..\n",
       "1132606  0.017  1.730  1.380  -518  93  92  98\n",
       "1132607  0.017  1.741  1.378  -305  85  87  83\n",
       "1132608  0.005  1.752  1.378  -577  91  82  92\n",
       "1132609  0.011  1.747  1.378   -90  95  92  99\n",
       "1132610  0.005  1.762  1.377 -1173  79  83  83\n",
       "\n",
       "[1132611 rows x 7 columns]"
      ]
     },
     "execution_count": 16,
     "metadata": {},
     "output_type": "execute_result"
    }
   ],
   "source": [
    "df = pd.read_csv('lowdata_done2.csv')\n",
    "df"
   ]
  },
  {
   "cell_type": "code",
   "execution_count": null,
   "id": "1386108a",
   "metadata": {},
   "outputs": [],
   "source": [
    "#데이터 불러오기\n",
    "data = pd.read_csv('lowdata_done2.csv')\n",
    "\n",
    "x = data['x']\n",
    "y = data['y']\n",
    "\n",
    "r = data['r']\n",
    "g = data['g']\n",
    "b = data['b']\n",
    "\n",
    "#int로 변경\n",
    "r_list = list(map(int,r))\n",
    "g_list = list(map(int,g))\n",
    "b_list = list(map(int,b))\n",
    "print(r_list, g_list, b_list)\n",
    "#print(r,g,b)\n",
    "\n",
    "#픽셀의 x,y값 넣을 빈 배열 만들기\n",
    "x_pix = [0 for i in range(1132611)]\n",
    "y_pix = [0 for i in range(1132611)]\n",
    "\n",
    "#이미지 판 만들기 (mode, size, color)\n",
    "img = Image.new(\"RGB\",(1132611,1132611),(255,255,255))  \n",
    "\n",
    "\n",
    "for i in range(0,999): #세로\n",
    "    for j in range(0,1131): #가로\n",
    "        img.putpixel((i,j), (r_list[i],g_list[i],b_list[i]))  #rgb에 int로 변경한 rgb값 넣기\n",
    "        print('i,j',i,j)  \n",
    "        \n",
    "img.show()  "
   ]
  },
  {
   "cell_type": "markdown",
   "id": "7de3caaa",
   "metadata": {},
   "source": [
    "## 파이썬 rgb to hex"
   ]
  },
  {
   "cell_type": "code",
   "execution_count": 18,
   "id": "867ce7d3",
   "metadata": {},
   "outputs": [],
   "source": [
    "def rgb_to_hex(r, g, b):\n",
    "    r, g, b = int(r), int(g), int(b)\n",
    "    return '#' + hex(r)[2:].zfill(2) + hex(g)[2:].zfill(2) + hex(b)[2:].zfill(2)"
   ]
  },
  {
   "cell_type": "code",
   "execution_count": 21,
   "id": "2c5e6b0b",
   "metadata": {},
   "outputs": [
    {
     "name": "stdout",
     "output_type": "stream",
     "text": [
      "#272f22\n"
     ]
    }
   ],
   "source": [
    "print(rgb_to_hex(39, 47, 34))"
   ]
  }
 ],
 "metadata": {
  "kernelspec": {
   "display_name": "Python 3 (ipykernel)",
   "language": "python",
   "name": "python3"
  },
  "language_info": {
   "codemirror_mode": {
    "name": "ipython",
    "version": 3
   },
   "file_extension": ".py",
   "mimetype": "text/x-python",
   "name": "python",
   "nbconvert_exporter": "python",
   "pygments_lexer": "ipython3",
   "version": "3.9.12"
  }
 },
 "nbformat": 4,
 "nbformat_minor": 5
}
